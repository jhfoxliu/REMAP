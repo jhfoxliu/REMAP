{
 "cells": [
  {
   "cell_type": "markdown",
   "id": "4458e4f3",
   "metadata": {},
   "source": [
    "# Example of RNA 5' Expansion Mapping and Annotation Pipeline (REMAP)\n",
    "\n",
    "Jianheng Fox Liu, 2025.06"
   ]
  },
  {
   "cell_type": "code",
   "execution_count": 1,
   "id": "51d435fd",
   "metadata": {},
   "outputs": [],
   "source": [
    "name = \"test_run\""
   ]
  },
  {
   "cell_type": "code",
   "execution_count": 2,
   "id": "ca813ba5",
   "metadata": {},
   "outputs": [],
   "source": [
    "# Environments\n",
    "cutadapt = \"/home/fox/Software/bin/cutadapt\"\n",
    "umitools = \"/home/fox/Software/bin/umi_tools\"\n",
    "hisat2 = \"/home/fox/Software/hisat2/2.2.1/hisat2\"\n",
    "bowtie2 = \"/home/fox/Software/bowtie2/2.4.2/bowtie2\"\n",
    "samtools = \"/home/fox/Software/samtools/1.16/bin/samtools\"\n",
    "python = \"/home/fox/Software/bin/python\""
   ]
  },
  {
   "cell_type": "code",
   "execution_count": 3,
   "id": "79f99375",
   "metadata": {},
   "outputs": [],
   "source": [
    "# Metadata\n",
    "ncRNA_bt2 = \"/home/fox/Database/Overrepresent_RNA_removal/20240127_silva_snRNA_snoRNA\"  # this is for bowtie2 mapping for snRNA, snoRNA, and rRNA.\n",
    "hisat2_index = \"/home/fox/Database/hisat2/GRCh38_Gencode_v45_nochr_UCSC_SNP_v151/GRCh38.primary_assembly.genome.nochr.snp\" # hisat2 index, with or withou SNP annotations\n",
    "snp_db = \"/home/fox/Database/dbSNP/UCSC_SNP151_COMMON/snp151Common.bed.gz\" # dbSNP annotations, in BED format, optional\n",
    "fasta = \"/home/fox/Database/Genome/Human/Gencode/v45/GRCh38.primary_assembly.genome.nochr.fa\" # fasta for the genomic sequence"
   ]
  },
  {
   "cell_type": "code",
   "execution_count": 4,
   "id": "fe889503",
   "metadata": {},
   "outputs": [],
   "source": [
    "# Scripts <-- change the directories\n",
    "clean_bam = \"clean_reads_in_BAM_by_UMI.py\"\n",
    "REMAP = \"REMAP.v1.py\""
   ]
  },
  {
   "cell_type": "markdown",
   "id": "d8ce1f64",
   "metadata": {},
   "source": [
    "## 1. Cutadapt and UMI-tools to remove artificial sequences"
   ]
  },
  {
   "cell_type": "code",
   "execution_count": 5,
   "id": "5d1e8290",
   "metadata": {},
   "outputs": [],
   "source": [
    "cmd_cutadapt = \"{cutadapt} -j 4 -m 30 -q 20 -e 0.25 --max-n 0 -a AGATCGGAAGAGCACACGTC -A ATATN{{11}}AGATCGGAAGAGCGTCGTG -o read1.cutadapt.fastq.gz -p read2.cutadapt.fastq.gz {read1} {read2}\".format(cutadapt=cutadapt, read1=\"test_read1.fastq.gz\", read2=\"test_read2.fastq.gz\")"
   ]
  },
  {
   "cell_type": "code",
   "execution_count": 6,
   "id": "d722230c",
   "metadata": {},
   "outputs": [
    {
     "name": "stdout",
     "output_type": "stream",
     "text": [
      "This is cutadapt 4.1 with Python 3.9.14\n",
      "Command line parameters: -j 4 -m 30 -q 20 -e 0.25 --max-n 0 -a AGATCGGAAGAGCACACGTC -A ATATN{11}AGATCGGAAGAGCGTCGTG -o read1.cutadapt.fastq.gz -p read2.cutadapt.fastq.gz test_read1.fastq.gz test_read2.fastq.gz\n",
      "Processing paired-end reads on 4 cores ...\n",
      "Done           00:00:01       100,000 reads @  14.6 µs/read;   4.12 M reads/minute\n",
      "Finished in 1.47 s (15 µs/read; 4.07 M reads/minute).\n",
      "\n",
      "=== Summary ===\n",
      "\n",
      "Total read pairs processed:            100,000\n",
      "  Read 1 with adapter:                  77,818 (77.8%)\n",
      "  Read 2 with adapter:                  63,913 (63.9%)\n",
      "\n",
      "== Read fate breakdown ==\n",
      "Pairs that were too short:              34,402 (34.4%)\n",
      "Pairs with too many N:                   1,102 (1.1%)\n",
      "Pairs written (passing filters):        64,496 (64.5%)\n",
      "\n",
      "Total basepairs processed:    20,200,000 bp\n",
      "  Read 1:    10,100,000 bp\n",
      "  Read 2:    10,100,000 bp\n",
      "Quality-trimmed:                 413,879 bp (2.0%)\n",
      "  Read 1:        92,500 bp\n",
      "  Read 2:       321,379 bp\n",
      "Total written (filtered):      9,289,309 bp (46.0%)\n",
      "  Read 1:     5,014,785 bp\n",
      "  Read 2:     4,274,524 bp\n",
      "\n",
      "=== First read: Adapter 1 ===\n",
      "\n",
      "Sequence: AGATCGGAAGAGCACACGTC; Type: regular 3'; Length: 20; Trimmed: 77818 times\n",
      "\n",
      "Minimum overlap: 3\n",
      "No. of allowed errors:\n",
      "1-3 bp: 0; 4-7 bp: 1; 8-11 bp: 2; 12-15 bp: 3; 16-19 bp: 4; 20 bp: 5\n",
      "\n",
      "Bases preceding removed adapters:\n",
      "  A: 14.0%\n",
      "  C: 30.8%\n",
      "  G: 16.9%\n",
      "  T: 23.4%\n",
      "  none/other: 14.9%\n",
      "\n",
      "Overview of removed sequences\n",
      "length\tcount\texpect\tmax.err\terror counts\n",
      "3\t872\t1562.5\t0\t681 191\n",
      "4\t1210\t390.6\t1\t321 889\n",
      "5\t527\t97.7\t1\t325 202\n",
      "6\t375\t24.4\t1\t266 88 21\n",
      "7\t354\t6.1\t1\t249 33 72\n",
      "8\t370\t1.5\t2\t295 18 57\n",
      "9\t432\t0.4\t2\t377 17 36 2\n",
      "10\t470\t0.1\t2\t427 14 16 13\n",
      "11\t512\t0.0\t2\t459 13 24 16\n",
      "12\t353\t0.0\t3\t324 10 4 15\n",
      "13\t430\t0.0\t3\t408 10 4 8\n",
      "14\t383\t0.0\t3\t356 13 2 7 5\n",
      "15\t334\t0.0\t3\t314 16 2 1 1\n",
      "16\t304\t0.0\t4\t287 10 7\n",
      "17\t382\t0.0\t4\t357 24 1\n",
      "18\t354\t0.0\t4\t333 17 1 3\n",
      "19\t364\t0.0\t4\t341 17 2 1 1 2\n",
      "20\t445\t0.0\t5\t402 30 7 0 3 3\n",
      "21\t487\t0.0\t5\t434 42 3 4 2 2\n",
      "22\t422\t0.0\t5\t387 26 3 1 0 5\n",
      "23\t483\t0.0\t5\t452 23 3 4 1\n",
      "24\t425\t0.0\t5\t392 21 4 2 1 5\n",
      "25\t472\t0.0\t5\t434 31 4 0 0 3\n",
      "26\t451\t0.0\t5\t423 20 4 0 1 3\n",
      "27\t601\t0.0\t5\t551 39 6 3 1 1\n",
      "28\t671\t0.0\t5\t619 37 6 6 2 1\n",
      "29\t1120\t0.0\t5\t1058 52 6 1 0 3\n",
      "30\t923\t0.0\t5\t874 41 5 1 0 2\n",
      "31\t713\t0.0\t5\t681 26 2 1 1 2\n",
      "32\t965\t0.0\t5\t908 47 8 1 1\n",
      "33\t2120\t0.0\t5\t2015 86 12 2 1 4\n",
      "34\t724\t0.0\t5\t672 40 8 2 0 2\n",
      "35\t671\t0.0\t5\t627 40 0 1 1 2\n",
      "36\t803\t0.0\t5\t751 39 8 0 1 4\n",
      "37\t1137\t0.0\t5\t1069 53 5 4 2 4\n",
      "38\t944\t0.0\t5\t888 42 7 4 0 3\n",
      "39\t1003\t0.0\t5\t947 47 4 3 0 2\n",
      "40\t1333\t0.0\t5\t1241 72 12 4 1 3\n",
      "41\t1389\t0.0\t5\t1299 73 10 6 1\n",
      "42\t1191\t0.0\t5\t1128 43 12 5 3\n",
      "43\t1168\t0.0\t5\t1082 66 7 1 3 9\n",
      "44\t1715\t0.0\t5\t1641 60 9 2 1 2\n",
      "45\t1689\t0.0\t5\t1578 88 10 5 5 3\n",
      "46\t2337\t0.0\t5\t2227 82 18 3 3 4\n",
      "47\t2051\t0.0\t5\t1954 85 6 6\n",
      "48\t1694\t0.0\t5\t1596 74 16 5 2 1\n",
      "49\t1095\t0.0\t5\t990 81 13 3 4 4\n",
      "50\t966\t0.0\t5\t901 53 6 4 2\n",
      "51\t829\t0.0\t5\t762 56 5 1 3 2\n",
      "52\t1323\t0.0\t5\t1243 66 6 5 1 2\n",
      "53\t1450\t0.0\t5\t1398 37 10 0 2 3\n",
      "54\t758\t0.0\t5\t704 48 2 2 0 2\n",
      "55\t1099\t0.0\t5\t1048 47 1 2 1\n",
      "56\t1392\t0.0\t5\t1344 41 4 2 1\n",
      "57\t806\t0.0\t5\t785 19 0 1 0 1\n",
      "58\t236\t0.0\t5\t222 8 1 1 0 4\n",
      "59\t157\t0.0\t5\t151 4 1 0 0 1\n",
      "60\t96\t0.0\t5\t90 3 0 0 0 3\n",
      "61\t106\t0.0\t5\t89 6 4 1 1 5\n",
      "62\t34\t0.0\t5\t33 1\n",
      "63\t49\t0.0\t5\t38 4 1 2 0 4\n",
      "64\t53\t0.0\t5\t45 4 1 0 1 2\n",
      "65\t120\t0.0\t5\t114 3 1 1 0 1\n",
      "66\t32\t0.0\t5\t17 0 1 0 1 13\n",
      "67\t140\t0.0\t5\t42 3 1 0 0 94\n",
      "68\t130\t0.0\t5\t71 1 0 1 0 57\n",
      "69\t106\t0.0\t5\t80 3 1 0 0 22\n",
      "70\t66\t0.0\t5\t62 2 0 0 0 2\n",
      "71\t72\t0.0\t5\t66 3 0 0 0 3\n",
      "72\t200\t0.0\t5\t189 6 1 1 1 2\n",
      "73\t265\t0.0\t5\t250 12 1 0 0 2\n",
      "74\t347\t0.0\t5\t332 12 0 0 1 2\n",
      "75\t512\t0.0\t5\t471 30 1 1 7 2\n",
      "76\t238\t0.0\t5\t223 11 1 0 0 3\n",
      "77\t114\t0.0\t5\t109 1 0 1 3\n",
      "78\t122\t0.0\t5\t115 4 0 1 0 2\n",
      "79\t249\t0.0\t5\t239 10\n",
      "80\t84\t0.0\t5\t80 3 0 1\n",
      "81\t77\t0.0\t5\t69 3 0 1 2 2\n",
      "82\t302\t0.0\t5\t290 8 1 0 0 3\n",
      "83\t67\t0.0\t5\t59 4 0 1 0 3\n",
      "84\t35\t0.0\t5\t27 3 0 0 2 3\n",
      "85\t46\t0.0\t5\t42 1 0 0 2 1\n",
      "86\t68\t0.0\t5\t62 0 1 0 0 5\n",
      "87\t12\t0.0\t5\t8 2 0 0 2\n",
      "88\t15\t0.0\t5\t14 1\n",
      "89\t42\t0.0\t5\t37 4 1\n",
      "90\t446\t0.0\t5\t415 25 3 0 1 2\n",
      "91\t57\t0.0\t5\t51 5 1\n",
      "92\t385\t0.0\t5\t372 13\n",
      "93\t40\t0.0\t5\t36 3 1\n",
      "94\t158\t0.0\t5\t139 14 0 5\n",
      "95\t1847\t0.0\t5\t1731 89 26 1\n",
      "96\t1390\t0.0\t5\t1282 85 15 7 0 1\n",
      "97\t1108\t0.0\t5\t1000 77 17 12 0 2\n",
      "98\t1461\t0.0\t5\t1384 66 11\n",
      "99\t2834\t0.0\t5\t2693 129 11 0 1\n",
      "100\t5067\t0.0\t5\t4775 270 18 2 1 1\n",
      "101\t10942\t0.0\t5\t10240 582 37 8 72 3\n",
      "\n",
      "\n",
      "=== Second read: Adapter 2 ===\n",
      "\n",
      "Sequence: ATATNNNNNNNNNNNAGATCGGAAGAGCGTCGTG; Type: regular 3'; Length: 34; Trimmed: 63913 times\n",
      "\n",
      "Minimum overlap: 3\n",
      "No. of allowed errors:\n",
      "1-3 bp: 0; 4-7 bp: 1; 8-11 bp: 2; 12-15 bp: 3; 16-19 bp: 4; 20-23 bp: 5\n",
      "\n",
      "Bases preceding removed adapters:\n",
      "  A: 5.5%\n",
      "  C: 57.0%\n",
      "  G: 13.9%\n",
      "  T: 22.6%\n",
      "  none/other: 0.9%\n",
      "\n",
      "Overview of removed sequences\n",
      "length\tcount\texpect\tmax.err\terror counts\n",
      "3\t181\t1562.5\t0\t96 85\n",
      "4\t2641\t390.6\t1\t51 2590\n",
      "5\t547\t97.7\t1\t93 454\n",
      "6\t690\t24.4\t1\t142 548\n",
      "7\t554\t6.1\t1\t57 497\n",
      "8\t576\t1.5\t2\t84 492\n",
      "9\t646\t0.4\t2\t132 514\n",
      "10\t741\t0.1\t2\t206 535\n",
      "11\t871\t0.0\t2\t245 626\n",
      "12\t933\t0.0\t3\t118 815\n",
      "13\t1119\t0.0\t3\t181 938\n",
      "14\t1352\t0.0\t3\t497 855\n",
      "15\t1645\t0.0\t3\t422 1223\n",
      "16\t904\t0.0\t4\t513 391\n",
      "17\t763\t0.0\t4\t606 147 10\n",
      "18\t528\t0.0\t4\t419 68 41\n",
      "19\t337\t0.0\t4\t282 11 44\n",
      "20\t358\t0.0\t5\t321 12 25\n",
      "21\t279\t0.0\t5\t261 9 9\n",
      "22\t259\t0.0\t5\t238 7 5 9\n",
      "23\t306\t0.0\t5\t288 10 1 7\n",
      "24\t395\t0.0\t5\t358 21 8 8\n",
      "25\t472\t0.0\t5\t446 18 4 3 1\n",
      "26\t474\t0.0\t5\t450 18 3 2 1\n",
      "27\t376\t0.0\t5\t348 20 4 3 1\n",
      "28\t416\t0.0\t5\t386 15 11 1 3\n",
      "29\t388\t0.0\t5\t361 10 7 6 4\n",
      "30\t353\t0.0\t5\t320 25 5 2 1\n",
      "31\t346\t0.0\t5\t307 22 11 3 2 1\n",
      "32\t407\t0.0\t5\t373 23 7 2 1 1\n",
      "33\t467\t0.0\t5\t394 50 8 8 5 2\n",
      "34\t1308\t0.0\t5\t1192 81 21 9 5\n",
      "35\t210\t0.0\t5\t172 26 8 3 1\n",
      "36\t101\t0.0\t5\t82 11 7 0 1\n",
      "37\t408\t0.0\t5\t373 23 6 2 3 1\n",
      "38\t526\t0.0\t5\t480 31 6 5 3 1\n",
      "39\t982\t0.0\t5\t917 50 5 5 5\n",
      "40\t206\t0.0\t5\t179 12 3 5 6 1\n",
      "41\t564\t0.0\t5\t523 31 3 4 3\n",
      "42\t2063\t0.0\t5\t1960 84 15 1 2 1\n",
      "43\t519\t0.0\t5\t478 33 4 1 2 1\n",
      "44\t3176\t0.0\t5\t3027 121 15 6 4 3\n",
      "45\t744\t0.0\t5\t679 41 11 4 7 2\n",
      "46\t188\t0.0\t5\t161 18 3 3 1 2\n",
      "47\t672\t0.0\t5\t591 54 16 8 3\n",
      "48\t6238\t0.0\t5\t6053 135 34 7 5 4\n",
      "49\t507\t0.0\t5\t455 40 7 3 1 1\n",
      "50\t910\t0.0\t5\t862 31 10 5 2\n",
      "51\t308\t0.0\t5\t259 36 8 1 0 4\n",
      "52\t1268\t0.0\t5\t1189 47 14 5 7 6\n",
      "53\t952\t0.0\t5\t893 34 16 5 3 1\n",
      "54\t1099\t0.0\t5\t1039 41 11 4 1 3\n",
      "55\t744\t0.0\t5\t643 68 16 8 5 4\n",
      "56\t3413\t0.0\t5\t3308 71 15 9 6 4\n",
      "57\t1779\t0.0\t5\t1689 72 11 4 1 2\n",
      "58\t245\t0.0\t5\t199 34 7 0 2 3\n",
      "59\t287\t0.0\t5\t220 48 6 5 4 4\n",
      "60\t3321\t0.0\t5\t3207 72 21 8 8 5\n",
      "61\t518\t0.0\t5\t412 71 15 7 7 6\n",
      "62\t368\t0.0\t5\t277 61 12 7 8 3\n",
      "63\t1695\t0.0\t5\t1628 43 10 5 5 4\n",
      "64\t200\t0.0\t5\t139 47 6 3 4 1\n",
      "65\t763\t0.0\t5\t721 25 10 1 3 3\n",
      "66\t194\t0.0\t5\t158 21 10 3 1 1\n",
      "67\t565\t0.0\t5\t531 23 5 1 1 4\n",
      "68\t60\t0.0\t5\t40 13 2 1 3 1\n",
      "69\t298\t0.0\t5\t271 21 4 2\n",
      "70\t647\t0.0\t5\t610 20 6 4 4 3\n",
      "71\t67\t0.0\t5\t47 14 2 2 1 1\n",
      "72\t312\t0.0\t5\t293 10 4 3 2\n",
      "73\t352\t0.0\t5\t324 17 5 3 1 2\n",
      "74\t106\t0.0\t5\t89 14 1 0 0 2\n",
      "75\t46\t0.0\t5\t27 12 3 2 2\n",
      "76\t204\t0.0\t5\t184 7 9 1 2 1\n",
      "77\t543\t0.0\t5\t513 12 4 7 5 2\n",
      "78\t40\t0.0\t5\t19 10 0 5 5 1\n",
      "79\t204\t0.0\t5\t185 1 9 0 4 5\n",
      "80\t73\t0.0\t5\t48 6 15 1 1 2\n",
      "81\t80\t0.0\t5\t61 6 4 4 2 3\n",
      "82\t164\t0.0\t5\t149 3 6 3 2 1\n",
      "83\t53\t0.0\t5\t36 6 2 3 3 3\n",
      "84\t65\t0.0\t5\t32 8 7 4 7 7\n",
      "85\t100\t0.0\t5\t85 5 3 0 1 6\n",
      "86\t93\t0.0\t5\t45 18 7 10 5 8\n",
      "87\t119\t0.0\t5\t40 5 13 14 15 32\n",
      "88\t399\t0.0\t5\t349 20 17 4 3 6\n",
      "89\t487\t0.0\t5\t431 30 11 4 4 7\n",
      "90\t643\t0.0\t5\t595 26 8 3 3 8\n",
      "91\t132\t0.0\t5\t116 9 2 2 2 1\n",
      "92\t18\t0.0\t5\t16 1 1\n",
      "93\t45\t0.0\t5\t35 4 1 3 2\n",
      "94\t142\t0.0\t5\t125 8 3 5 1\n",
      "95\t71\t0.0\t5\t57 7 1 2 3 1\n",
      "96\t57\t0.0\t5\t48 2 3 2 1 1\n",
      "97\t267\t0.0\t5\t240 12 5 1 7 2\n",
      "98\t50\t0.0\t5\t42 3 1 0 2 2\n",
      "99\t42\t0.0\t5\t16 9 6 0 8 3\n",
      "100\t102\t0.0\t5\t35 6 8 1 47 5\n",
      "101\t467\t0.0\t5\t48 5 9 1 382 22\n"
     ]
    }
   ],
   "source": [
    "!$cmd_cutadapt"
   ]
  },
  {
   "cell_type": "code",
   "execution_count": 7,
   "id": "db489639",
   "metadata": {},
   "outputs": [],
   "source": [
    "# If you have UMIs\n",
    "cmd_umitools = \"{umitools} extract -I read1.cutadapt.fastq.gz -S read1.umi.fastq --read2-in=read2.cutadapt.fastq.gz --read2-out=read2.umi.fastq -p NNNNNNNNNNNNNNN --log=umi_extract.log\".format(umitools=umitools)\n",
    "!$cmd_umitools"
   ]
  },
  {
   "cell_type": "markdown",
   "id": "c591914f",
   "metadata": {},
   "source": [
    "## 2. Bowtie2 to exclude unwanted transcripts (optional)\n",
    "\n",
    "**Note**: In ReCappable-seq, many of the reads are from snRNA, snoRNA, and 7SK. Removing them first will make the analysis faster."
   ]
  },
  {
   "cell_type": "code",
   "execution_count": 8,
   "id": "8a4b69c7",
   "metadata": {},
   "outputs": [
    {
     "name": "stdout",
     "output_type": "stream",
     "text": [
      "64496 reads; of these:\r\n",
      "  64496 (100.00%) were paired; of these:\r\n",
      "    33413 (51.81%) aligned concordantly 0 times\r\n",
      "    3205 (4.97%) aligned concordantly exactly 1 time\r\n",
      "    27878 (43.22%) aligned concordantly >1 times\r\n",
      "    ----\r\n",
      "    33413 pairs aligned concordantly 0 times; of these:\r\n",
      "      0 (0.00%) aligned discordantly 1 time\r\n",
      "    ----\r\n",
      "    33413 pairs aligned 0 times concordantly or discordantly; of these:\r\n",
      "      66826 mates make up the pairs; of these:\r\n",
      "        66666 (99.76%) aligned 0 times\r\n",
      "        25 (0.04%) aligned exactly 1 time\r\n",
      "        135 (0.20%) aligned >1 times\r\n",
      "48.32% overall alignment rate\r\n"
     ]
    }
   ],
   "source": [
    "cmd_bowtie2_ncRNA = \"{bowtie2} -p 6 --mm --fr -1 read1.umi.fastq -2 read2.umi.fastq --un-conc non_rRNA.%.fastq -x {ncRNA_2_bt2} --fast-local --dovetail |  {samtools} view -bS -F 4 -@ 6 -o ncRNA.bam\".format(bowtie2=bowtie2, ncRNA_2_bt2=ncRNA_bt2, samtools=samtools)\n",
    "!$cmd_bowtie2_ncRNA"
   ]
  },
  {
   "cell_type": "markdown",
   "id": "e55cebdf",
   "metadata": {},
   "source": [
    "## 3. Mapping to the reference genome via HISAT2\n",
    "\n",
    "**Note:** HISAT2 has some features that allows better performance in finding the expansions wiht the default settings. STAR is not recommended."
   ]
  },
  {
   "cell_type": "code",
   "execution_count": 9,
   "id": "cf49ec12",
   "metadata": {},
   "outputs": [
    {
     "name": "stdout",
     "output_type": "stream",
     "text": [
      "33413 reads; of these:\r\n",
      "  33413 (100.00%) were paired; of these:\r\n",
      "    2880 (8.62%) aligned concordantly 0 times\r\n",
      "    27813 (83.24%) aligned concordantly exactly 1 time\r\n",
      "    2720 (8.14%) aligned concordantly >1 times\r\n",
      "91.38% overall alignment rate\r\n"
     ]
    }
   ],
   "source": [
    "cmd_hisat2 = \"{hisat2} -x {hisat2_index} --no-discordant --no-mixed --fr --rna-strandness FR -p 6 -1 non_rRNA.1.fastq -2 non_rRNA.2.fastq | {samtools} view -bS -F 4 -@ 6 -o hisat2.bam\".format(hisat2=hisat2, hisat2_index=hisat2_index, samtools=samtools)\n",
    "!$cmd_hisat2"
   ]
  },
  {
   "cell_type": "code",
   "execution_count": 10,
   "id": "22f835fb",
   "metadata": {},
   "outputs": [
    {
     "name": "stdout",
     "output_type": "stream",
     "text": [
      "[E::idx_find_and_load] Could not retrieve index file for 'hisat2.bam'\r\n"
     ]
    }
   ],
   "source": [
    "# Optional. This script will check the UMI sequence, which should end with ATAT in my case. Skip if you don't need this\n",
    "# Ignore the warnings\n",
    "!$python $clean_bam hisat2.bam hisat2.clean.bam"
   ]
  },
  {
   "cell_type": "code",
   "execution_count": 11,
   "id": "1d17c43d",
   "metadata": {},
   "outputs": [
    {
     "name": "stdout",
     "output_type": "stream",
     "text": [
      "[bam_sort_core] merging from 0 files and 4 in-memory blocks...\r\n"
     ]
    }
   ],
   "source": [
    "!$samtools sort -m 4G -@ 4 -o hisat2.clean.sorted.bam hisat2.clean.bam\n",
    "!$samtools index hisat2.clean.sorted.bam"
   ]
  },
  {
   "cell_type": "markdown",
   "id": "413db6e1",
   "metadata": {},
   "source": [
    "## 4. Deduplication with UMIs (optional)"
   ]
  },
  {
   "cell_type": "code",
   "execution_count": 12,
   "id": "f31fedf3",
   "metadata": {},
   "outputs": [],
   "source": [
    "cmd_umitools_dedup = \"{umitools} dedup --paired --chimeric-pairs=discard --unpaired-reads=discard --stdin=hisat2.clean.sorted.bam --log=umi.logs --method=unique > {name}.bam \".format(umitools=umitools, name=name)\n",
    "!$cmd_umitools_dedup"
   ]
  },
  {
   "cell_type": "code",
   "execution_count": 13,
   "id": "9a4dc9f4",
   "metadata": {},
   "outputs": [],
   "source": [
    "cmd_samtools_index = \"{samtools} index {name}.bam\".format(samtools=samtools, name=name)\n",
    "!$cmd_samtools_index"
   ]
  },
  {
   "cell_type": "markdown",
   "id": "429c7589",
   "metadata": {},
   "source": [
    "## 5. Fix the BAM file and find out RNA 5' expansions"
   ]
  },
  {
   "cell_type": "code",
   "execution_count": 14,
   "id": "134a7c4f",
   "metadata": {},
   "outputs": [
    {
     "name": "stdout",
     "output_type": "stream",
     "text": [
      "[2025-06-27 13:33:44] Loading FASTA...\n",
      "[2025-06-27 13:34:01] FASTA loaded.\n",
      "[2025-06-27 13:34:01] Reads in BAM file (read1 + read2 + seconadary + etc.): 70995\n",
      "[2025-06-27 13:34:01] Analyzing BAM file with 4 processors.\n",
      "[2025-06-27 13:34:01] Merging temp BAM files...\n",
      "[2025-06-27 13:34:02] BAM file with corrected 5' annotation: test_run.softclip_corrected.bam\n",
      "[2025-06-27 13:34:02] Reading corrected BAM file...\n",
      "[2025-06-27 13:34:02] Checking SNPs...\n",
      "[2025-06-27 13:34:02] Total reads (Read1 only. Expected 1/2 as paired-end read counts): 29087\n"
     ]
    }
   ],
   "source": [
    "cmd_reannotate_softclippings = \"{python} {REMAP} -b {name}.bam -s {snp} -f {ref_genome_nochr} -o {name}.expansions.csv\".format(python=python, name=name, ref_genome_nochr=fasta, snp=snp_db, REMAP=REMAP)\n",
    "!$cmd_reannotate_softclippings"
   ]
  },
  {
   "cell_type": "markdown",
   "id": "a19696ac",
   "metadata": {},
   "source": [
    "### Here is the example CSV output:\n",
    "\n",
    "chr - chromosome ID\n",
    "\n",
    "pos - 1-based location of the TSS\n",
    "\n",
    "strand - strand \n",
    "\n",
    "ref_base - reference base (with strandness)\n",
    "\n",
    "softclip_bases - the expanded bases\n",
    "\n",
    "Count - number of reads\n",
    "\n",
    "Softclip_size - the length of softclipping\n",
    "\n",
    "COMMENT - the type of expansion:\n",
    "\n",
    "* M - no expansion\n",
    "\n",
    "* +1 EXPANDED, expansion at the first nucleotide, e.g, AAAG -> AAAAG\n",
    "\n",
    "* +2 EXPANDED, expansion at the second nucleotide, e.g., ATTTG -> ATTTTTTG\n",
    "\n",
    "* +3 EXPANDED, expansion at the third nucleotide, e.g., TCAAAAG -> TCAAAAAAG\n",
    "\n",
    "* +4 EXPANDED, expansion at the forth nucleotide\n",
    "\n",
    "* Reanneal_xx_yy, the nascent RNA dissociated and reannealed upstream before elongation. The xx is the inserted nucleotides, and yy is the sequence gapped between the reannealed site and the TSS\n",
    "\n",
    "* SNP\n",
    "\n",
    "* UNKNOWN, unclassified, many of them are sequencing/mapping errors, some of them are complicated expansion cases\n",
    "\n"
   ]
  },
  {
   "cell_type": "code",
   "execution_count": 15,
   "id": "00baeafb",
   "metadata": {},
   "outputs": [
    {
     "name": "stdout",
     "output_type": "stream",
     "text": [
      ",chr,pos,strand,ref_base,softclip_bases,Count,Softclip_size,COMMENT\r\n",
      "0,1,199838,-,A,A,1,0,M\r\n",
      "1,1,778632,-,G,G,2,0,M\r\n",
      "2,1,959258,-,A,A,1,0,M\r\n",
      "3,1,959267,-,G,G,1,0,M\r\n",
      "4,1,959268,-,A,A,1,0,M\r\n",
      "5,1,966976,-,A,A,1,0,M\r\n",
      "6,1,1000123,-,A,A,2,0,M\r\n",
      "7,1,1000339,+,G,G,1,0,M\r\n",
      "8,1,1000815,-,A,A,1,0,M\r\n"
     ]
    }
   ],
   "source": [
    "!head test_run.expansions.csv"
   ]
  },
  {
   "cell_type": "markdown",
   "id": "5914bb3e",
   "metadata": {},
   "source": [
    "**Note:** The output table shows all different events of expansions per TSS. To format the table(s), please refer to **Example_statistics_pipeline** for more details."
   ]
  }
 ],
 "metadata": {
  "kernelspec": {
   "display_name": "Python 3 (ipykernel)",
   "language": "python",
   "name": "python3"
  },
  "language_info": {
   "codemirror_mode": {
    "name": "ipython",
    "version": 3
   },
   "file_extension": ".py",
   "mimetype": "text/x-python",
   "name": "python",
   "nbconvert_exporter": "python",
   "pygments_lexer": "ipython3",
   "version": "3.9.14"
  }
 },
 "nbformat": 4,
 "nbformat_minor": 5
}
